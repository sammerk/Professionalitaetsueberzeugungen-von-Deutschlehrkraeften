{
 "cells": [
  {
   "cell_type": "markdown",
   "metadata": {},
   "source": [
    "# Professionalität von Deutschlehrpersonen am Beispiel der\n",
    "\n",
    "Sprachdidaktik\n",
    "\n",
    "Anonymisert [![](data:image/png;base64,iVBORw0KGgoAAAANSUhEUgAAABAAAAAQCAYAAAAf8/9hAAAAGXRFWHRTb2Z0d2FyZQBBZG9iZSBJbWFnZVJlYWR5ccllPAAAA2ZpVFh0WE1MOmNvbS5hZG9iZS54bXAAAAAAADw/eHBhY2tldCBiZWdpbj0i77u/IiBpZD0iVzVNME1wQ2VoaUh6cmVTek5UY3prYzlkIj8+IDx4OnhtcG1ldGEgeG1sbnM6eD0iYWRvYmU6bnM6bWV0YS8iIHg6eG1wdGs9IkFkb2JlIFhNUCBDb3JlIDUuMC1jMDYwIDYxLjEzNDc3NywgMjAxMC8wMi8xMi0xNzozMjowMCAgICAgICAgIj4gPHJkZjpSREYgeG1sbnM6cmRmPSJodHRwOi8vd3d3LnczLm9yZy8xOTk5LzAyLzIyLXJkZi1zeW50YXgtbnMjIj4gPHJkZjpEZXNjcmlwdGlvbiByZGY6YWJvdXQ9IiIgeG1sbnM6eG1wTU09Imh0dHA6Ly9ucy5hZG9iZS5jb20veGFwLzEuMC9tbS8iIHhtbG5zOnN0UmVmPSJodHRwOi8vbnMuYWRvYmUuY29tL3hhcC8xLjAvc1R5cGUvUmVzb3VyY2VSZWYjIiB4bWxuczp4bXA9Imh0dHA6Ly9ucy5hZG9iZS5jb20veGFwLzEuMC8iIHhtcE1NOk9yaWdpbmFsRG9jdW1lbnRJRD0ieG1wLmRpZDo1N0NEMjA4MDI1MjA2ODExOTk0QzkzNTEzRjZEQTg1NyIgeG1wTU06RG9jdW1lbnRJRD0ieG1wLmRpZDozM0NDOEJGNEZGNTcxMUUxODdBOEVCODg2RjdCQ0QwOSIgeG1wTU06SW5zdGFuY2VJRD0ieG1wLmlpZDozM0NDOEJGM0ZGNTcxMUUxODdBOEVCODg2RjdCQ0QwOSIgeG1wOkNyZWF0b3JUb29sPSJBZG9iZSBQaG90b3Nob3AgQ1M1IE1hY2ludG9zaCI+IDx4bXBNTTpEZXJpdmVkRnJvbSBzdFJlZjppbnN0YW5jZUlEPSJ4bXAuaWlkOkZDN0YxMTc0MDcyMDY4MTE5NUZFRDc5MUM2MUUwNEREIiBzdFJlZjpkb2N1bWVudElEPSJ4bXAuZGlkOjU3Q0QyMDgwMjUyMDY4MTE5OTRDOTM1MTNGNkRBODU3Ii8+IDwvcmRmOkRlc2NyaXB0aW9uPiA8L3JkZjpSREY+IDwveDp4bXBtZXRhPiA8P3hwYWNrZXQgZW5kPSJyIj8+84NovQAAAR1JREFUeNpiZEADy85ZJgCpeCB2QJM6AMQLo4yOL0AWZETSqACk1gOxAQN+cAGIA4EGPQBxmJA0nwdpjjQ8xqArmczw5tMHXAaALDgP1QMxAGqzAAPxQACqh4ER6uf5MBlkm0X4EGayMfMw/Pr7Bd2gRBZogMFBrv01hisv5jLsv9nLAPIOMnjy8RDDyYctyAbFM2EJbRQw+aAWw/LzVgx7b+cwCHKqMhjJFCBLOzAR6+lXX84xnHjYyqAo5IUizkRCwIENQQckGSDGY4TVgAPEaraQr2a4/24bSuoExcJCfAEJihXkWDj3ZAKy9EJGaEo8T0QSxkjSwORsCAuDQCD+QILmD1A9kECEZgxDaEZhICIzGcIyEyOl2RkgwAAhkmC+eAm0TAAAAABJRU5ErkJggg==)](https://orcid.org/0000-0000-0000-0000) (1)  \n",
    "Anonymisert [![](data:image/png;base64,iVBORw0KGgoAAAANSUhEUgAAABAAAAAQCAYAAAAf8/9hAAAAGXRFWHRTb2Z0d2FyZQBBZG9iZSBJbWFnZVJlYWR5ccllPAAAA2ZpVFh0WE1MOmNvbS5hZG9iZS54bXAAAAAAADw/eHBhY2tldCBiZWdpbj0i77u/IiBpZD0iVzVNME1wQ2VoaUh6cmVTek5UY3prYzlkIj8+IDx4OnhtcG1ldGEgeG1sbnM6eD0iYWRvYmU6bnM6bWV0YS8iIHg6eG1wdGs9IkFkb2JlIFhNUCBDb3JlIDUuMC1jMDYwIDYxLjEzNDc3NywgMjAxMC8wMi8xMi0xNzozMjowMCAgICAgICAgIj4gPHJkZjpSREYgeG1sbnM6cmRmPSJodHRwOi8vd3d3LnczLm9yZy8xOTk5LzAyLzIyLXJkZi1zeW50YXgtbnMjIj4gPHJkZjpEZXNjcmlwdGlvbiByZGY6YWJvdXQ9IiIgeG1sbnM6eG1wTU09Imh0dHA6Ly9ucy5hZG9iZS5jb20veGFwLzEuMC9tbS8iIHhtbG5zOnN0UmVmPSJodHRwOi8vbnMuYWRvYmUuY29tL3hhcC8xLjAvc1R5cGUvUmVzb3VyY2VSZWYjIiB4bWxuczp4bXA9Imh0dHA6Ly9ucy5hZG9iZS5jb20veGFwLzEuMC8iIHhtcE1NOk9yaWdpbmFsRG9jdW1lbnRJRD0ieG1wLmRpZDo1N0NEMjA4MDI1MjA2ODExOTk0QzkzNTEzRjZEQTg1NyIgeG1wTU06RG9jdW1lbnRJRD0ieG1wLmRpZDozM0NDOEJGNEZGNTcxMUUxODdBOEVCODg2RjdCQ0QwOSIgeG1wTU06SW5zdGFuY2VJRD0ieG1wLmlpZDozM0NDOEJGM0ZGNTcxMUUxODdBOEVCODg2RjdCQ0QwOSIgeG1wOkNyZWF0b3JUb29sPSJBZG9iZSBQaG90b3Nob3AgQ1M1IE1hY2ludG9zaCI+IDx4bXBNTTpEZXJpdmVkRnJvbSBzdFJlZjppbnN0YW5jZUlEPSJ4bXAuaWlkOkZDN0YxMTc0MDcyMDY4MTE5NUZFRDc5MUM2MUUwNEREIiBzdFJlZjpkb2N1bWVudElEPSJ4bXAuZGlkOjU3Q0QyMDgwMjUyMDY4MTE5OTRDOTM1MTNGNkRBODU3Ii8+IDwvcmRmOkRlc2NyaXB0aW9uPiA8L3JkZjpSREY+IDwveDp4bXBtZXRhPiA8P3hwYWNrZXQgZW5kPSJyIj8+84NovQAAAR1JREFUeNpiZEADy85ZJgCpeCB2QJM6AMQLo4yOL0AWZETSqACk1gOxAQN+cAGIA4EGPQBxmJA0nwdpjjQ8xqArmczw5tMHXAaALDgP1QMxAGqzAAPxQACqh4ER6uf5MBlkm0X4EGayMfMw/Pr7Bd2gRBZogMFBrv01hisv5jLsv9nLAPIOMnjy8RDDyYctyAbFM2EJbRQw+aAWw/LzVgx7b+cwCHKqMhjJFCBLOzAR6+lXX84xnHjYyqAo5IUizkRCwIENQQckGSDGY4TVgAPEaraQr2a4/24bSuoExcJCfAEJihXkWDj3ZAKy9EJGaEo8T0QSxkjSwORsCAuDQCD+QILmD1A9kECEZgxDaEZhICIzGcIyEyOl2RkgwAAhkmC+eAm0TAAAAABJRU5ErkJggg==)](https://orcid.org/0000-0000-0000-0000) (2, 3)  \n",
    "12. März 2025\n",
    "\n",
    "„Professionalität” von Lehrpersonen wird einerseits bildungswissenschaftlich theoretisiert und modelliert (z.B. im sog. kompetenzorientierten oder im strukturtheoretischen Ansatz), andererseits haben Lehrpersonen Überzeugungen bezüglich der Frage, was Professionalität in ihrem Beruf ausmacht. Der vorliegende Beitrag untersucht, inwiefern diese Überzeugungen den bildungswissenschaftlichen Ansätzen ähnlich sind (konzeptuelle Replikation) und ob sie spezifisch für einen fachdidaktischen Kontext sind (Erweiterung/Originalstudie). In einem faktorenanalytischen Ansatz zeigten sich Überzeugungen zu Professionalität in der Fachdidaktik Deutsch als metrisch invariant gegenüber allgemeinen Professionalitätsüberzeugungen, wichen jedoch substantiell von der a priori Struktur der bildungswissenschaftlichen Ansätze ab. Word Embeddings von Freitextantworten zeigten jedoch gleichzeitig eine Korrespondenz zu der bildungswissenschaftlich implizierten Gliederung. Inwiefern aus diesen Befunden auf eine kognitive Repräsentation bildungswissenschaftlicher Professionalitätsansätze in den Überzeugungen von Lehrpersonen geschlossen werden kann, wird diskutiert.\n",
    "\n",
    "## Einleitung\n",
    "\n",
    "Die bildungswissenschaftliche Forschung hat sich intensiv mit der Frage nach der Professionalität von Lehrpersonen auseinandergesetzt und dabei diverse, oft komplementäre Theorien und Konzepte generiert ([Cramer, Groß Ophoff, et al. 2023](#ref-cramer2023)). Während z.B. soziologisch inspirierte Arbeiten für die Profession charakteristische Antinomien im Lehrpersonenhandeln identifizierten, topologisierten Arbeiten aus der pädagogischen Psychologie bestimmte Wissensbestände, Überzeugungen, motivationale und selbstregulative Variablen sowie Werte, die sich in der Literatur als prädiktiv für Outcomes auf Ebene der Schülerinnen und Schüler zeigten ([Baumert und Kunter 2006](#ref-baumert2006); [Krauss et al. 2004](#ref-krauss2004); [Shulman 1986](#ref-shulman1986)). Weitere Forschungsstränge bearbeiteten etwa in der Tradition erziehungswissenschaftlicher Biografieforschung ([Bauer 2000](#ref-bauer2000); [Terhart 1992](#ref-terhart1992)) die besondere Bedeutung lebensbiografischer Schulerfahrungen von Lehrpersonen oder reflektieren auf meta-theoretischer Ebene Gemeinsamkeiten, Unterschiede und Leerstellen der bisher genannten Ansätze ([Cramer, Groß Ophoff, et al. 2023](#ref-cramer2023)). Die Frage nach Professionalität im Lehrberuf hat auch Eingang in Bildungsstandards gefunden und werden dementsprechend an Universitäten und Pädagogischen Hochschulen gelehrt ([Hohenstein et al. 2014](#ref-hohenstein2014)). Es kann jedoch begründet angenommen werden, dass Lehrpersonen in diese Lernsituationen umfangreiche, bereits bestehende implizite wie explizite Überzeugungen ([Fives und Buehl 2012](#ref-fives2012); [Merk 2020](#ref-merk2020)) bezüglich der Frage einbringen, was Professionalität ausmacht. Dies hätte Konsequenzen für die Professionalisierungspraxis ([Cramer, Groß Ophoff, et al. 2023](#ref-cramer2023)), da jene Überzeugungen über die ihnen zugeschriebene Filter-, Rahmungs- und Handlungsleitungsfunktionen ([Fives und Buehl 2012](#ref-fives2012)) dazu führen können, dass (angehende) Lehrpersonen bestimmte Lerngelegenheiten unterschiedlich wählen und nutzen. Erste Forschung liegt dazu vor, inwiefern Überzeugungen zur Professionalität von Lehrpersonen in ihrer Struktur den bildungswissenschaftlichen Theorien entspricht, wobei die Ergebnisse sowohl auf Ähnlichkeiten und Abweichungen zwischen Überzeugungsstruktur und Theorien hinweisen ([Cramer, Groß Ophoff, et al. 2023](#ref-cramer2023)). Die Ambiguität dieser Ergebnisse, deren unklare Generalisierbarkeit etwa angesichts potentieller Domänenspezifität von Professionalitätsüberzeugungen sowie die grundsätzliche Diskussion um die Erfassbarkeit von Überzeugungen zu Professionalität mit geschlossenen Fragebogenitems ([Merk und Schmidt 2023](#ref-merk2023)) nimmt die vorliegende Studie zum Anlass um a) zu versuchen, die von Cramer et al. ([2023](#ref-cramer2023)) gefundene Faktorenstruktur der Professionalitätsüberzeugungen domänenspezifisch zu replizieren b) die Faktorenstruktur von allgemeinen und domänenspezifischen Professionalitätsüberzeugungen in der Fachdidaktik zu vergleichen und c) die Ähnlichkeit des Inhalts von offen erfassten Überzeugungen und bildungswissenschaftlichen Theorien zur Professionalität von Lehrpersonen mit Natural Language Processing Methoden ([Bittermann und Fischer 2024](#ref-bittermann2024)) zu untersuchen.\n",
    "\n",
    "## Theoretischer Hintergrund\n",
    "\n",
    "### Professionalität von Lehrpersonen\n",
    "\n",
    "In den Bildungswissenschaften ist spätestens seit der Jahrtausendwende eine lebendige, teils auch kontroverse Diskussion um die Charakteristika professionellen Handelns im Lehrberuf zu verzeichnen, die verschiedene Ansätze der Professionalität hervorgebracht hat.\n",
    "\n",
    "#### Strukturtheoretischer Ansatz\n",
    "\n",
    "Ausgehend von soziologisch geprägten Arbeiten Oevermanns ([1996](#ref-oevermann1996)) wirft der strukturtheoretische Ansatz der Professionalität von Lehrpersonen ein besonderes Augenmerk auf die beruflichen Rahmenbedingungen von Lehrpersonen wie etwa Rollenerwartungen oder soziale Gefüge ([Helsper 2014](#ref-helsper2014)). In der Rezeption dieses Ansatzes haben sogenannte „Antinomien” oder „professionelle Paradoxien” des Lehrberufes besondere Aufmerksamkeit erfahren ([Baumert und Kunter 2006](#ref-baumert2006)). Sie beschreiben nicht auflösbare, aber charakteristische Widersprüche in den professionellen Anforderungen wie etwa die simultane Erfordernis von Nähe und Distanz zwischen Lehrpersonen und Schülerinnen und Schülern.\n",
    "\n",
    "#### Kompetenzorientierter Ansatz\n",
    "\n",
    "Der kompetenzorientierte Ansatz hingegen versucht in der Tradition der Wissenstopologie Shulmans ([1986](#ref-shulman1986)) und des Expertiseansatzes der Lehrpersonenprofessionalität ([Bromme 1992](#ref-bromme1992)), Professionswissen, Überzeugungen und Werthaltungen, motivationale Orientierungen und selbstregulative Fähigkeiten von Lehrpersonen zu systematisieren, die ein erfolgreicheres Lehrpersonenhandeln wahrscheinlicher machen. Dabei wird Erfolg letzlich meist als gesteigerte (operationalisierbare) Outcomes auf Ebene der Schülerinnen und Schüler definiert, wie z.B. deren akademische Leistung oder Motivation. Häufig zitiert werden Topologien, welche die für professionelle Kompetenz konstitutiven Wissensdomänen Fachwissen, Fachdidaktisches Wissen, Pädagogisches Wissen, Organisationales Wissen und Beratungswissen jeweils in disjunkte Subdomänen unterteilen ([Baumert und Kunter 2006](#ref-baumert2006); [König 2020](#ref-konig2020); [Krauss et al. 2004](#ref-krauss2004))\n",
    "\n",
    "#### Berufsbiografischer Ansatz\n",
    "\n",
    "In der Tradition erziehungswissenschaftlicher Biografieforschung fokussieren Arbeiten des berufsbiografischen Ansatzes in einer stark intraindividuellen Perspektive lebensbiografische und berufsbiografische Zugänge ([Fabel-Lamla 2018](#ref-fabel-lamla2018)). Denenzufolge ist Biografie eine Sinnzuschreibung an den eigenen Lebenslauf und damit die Lehrpersonenbiografie immer auch mit den eigenen Erfahrung und dem Erleben als ehemalige Schülerin oder ehemaliger Schüler sowie über die Zeit der Berufsausübung hinweg verknüpft ([Kunze und Stelmaszyk 2008](#ref-kunze2008)). Daher geraten Brüche und Übergänge im Berufsverlauf in den Fokus. Mit Blick auf die Berufsverlaufsforschung hingegen („berufsbiografische Perspektive“) erweist sich Professionalität von Lehrpersonen als „berufsbiographisches Entwicklungsproblem“ ([Terhart 1995, S. 238](#ref-terhart1995c)) derart, dass eine berufslebenslange Professionalisierung samt der Bewältigung von beruflichen Entwicklungsaufgaben eine professionelle Lehrperson kennzeichnet.\n",
    "\n",
    "#### Metareflexiver Ansatz\n",
    "\n",
    "Die bisher genannten Ansätze haben (neben weiteren, vgl. z.B. [Helsper 2021](#ref-helsper2021)) Eingang in die institutionalisierte Lehrpersonenbildung gefunden. Dies nahmen Cramer et al. ([2019](#ref-cramer2019)) zum Anlass, Professionalität als mehrperspektivische Betrachtung des eigenen Handelns unter Berücksichtigung der verschiedenen Professionalitätsansätze sowie deren Unterschiede und Gemeinsamkeiten als eine sekundäre Perspektive auf Professionalität zu definieren. Danach können professionelle Lehrpersonen beim Treffen von Entscheidungen auf Handlungsoptionen rekurrieren, die sich mit wissenschaftlichen Deutungsmustern verbinden. Dabei reflektieren sie idealtypisch verschiedene Handlungsoptionen nicht nur mehrperspektivisch entlang verschiedener situationsadäquater Theorien und Konzepte, sondern auch deren terminologische Differenzen und differentielle Axiomatiken ([Cramer, Brown, et al. 2023](#ref-cramer2023a)). Verschiedene meta-reflexive (sekundäre) Prinzipien, darunter neben der Mehrperspektivität etwa Kontextgebundenheit oder Alternativität, sind Ausgangspunkt einer möglichen Relationierung, also Verhältnisbestimmung der unterschiedlichen Ansätze von Professionalität in Forschung und Lehrpersonenbildung ([Cramer 2023](#ref-cramer2023c)).\n",
    "\n",
    "## Überzeugungen von Lehrpersonen\n",
    "\n",
    "Überzeugungen von Lehrpersonen sind ein viel bearbeiteter Forschungsgegenstand ([Fives et al. 2019](#ref-fives2019); [Pajares 1992](#ref-pajares1992); [Skott 2015](#ref-skott2015)) in der Lehrpersonenbildungsforschung. Sie werden zum einen als sehr wirkmächtig konzeptualisert - ihnen wird etwa eine Filter- Rahmungs- und Handlungsleitungsfunktion zugeschrieben ([Fives et al. 2019](#ref-fives2019)). Andererseits gelten sie als vergleichsweise ökonomisch mittels Fragebogen erfassbar ([Merk 2020](#ref-merk2020)). Da Überzeugungen meist als subjektive Wahrheitspropositionen definiert werden ([Skott 2015](#ref-skott2015)), liegt es nahe, die Forschung zu Überzeugungen von Lehrpersonen nach dem Gegenstandsbereich der Wahrheitspropositionen zu gliedern: Also etwa lehr- lerntheoretische Überzeugungen ([Dubberke et al. 2008](#ref-dubberke2008); [Reusser und Pauli 2014](#ref-reusser2014); [Turner et al. 2009](#ref-turner2009)), epistemische Überzeugungen ([Blömeke et al. 2008](#ref-blomeke2008); [Fives und Buehl 2008](#ref-fives2008); [Hofer und Bendixen 2012](#ref-hofer2012)), Überzeugungen zu heterogenen Lerngruppen ([Gebauer et al. 2013](#ref-gebauer2013)) oder eben Überzeugungen zur Professionalität von Lehrpersonen ([Cramer, Groß Ophoff, et al. 2023](#ref-cramer2023)). Überzeugungen zu verschiedenen Gegenstandsbereichen gelten jedoch als teilweise abhängig voneinander, wenngleich nicht notwendigerweise konsistent: So weisen Lehrpersonen die hochgradig transmissive lerntheoretische Überzeugungen für das Fach Mathematik aufweisen auch eher transmissive Lerntheoretische Überzeugungen für das Fach Physik auf (Abhängigkeit), gleichzeitig gibt es Evidenz dafür, dass Lehrpersonen davon überzeugt sind, dass es wichtig ist ihre Praxis durch bildungswissenschaftliche Forschungsergebnisse zu informieren, ohne dies jedoch auch umzusetzen ([Gold et al. 2024](#ref-gold2024); [Walker et al. 2019](#ref-walker2019)). Für diese Domänenspezifität und Kontextabhängigkeit von Überzeugungen liegen (insbesondere für epistemische Überzeugungen) umfassende Rahmenmodelle vor ([Merk et al. 2017](#ref-merk2017); [Muis et al. 2006](#ref-muis2006)).\n",
    "\n",
    "### Professionalitätsbezogene Überzeugungen von Lehrpersonen\n",
    "\n",
    "Empirische Forschung zu Überzeugungen von Lehrpersonen bezüglich Professionalität in ihrem Beruf ist im Vergleich zu Forschung zu Überzeugungen bezüglich den anderen zuvor genannten Gegenstandsbereichen eher selten. Es existiert zwar internationale Forschung zu Überzeugungen bezüglich „teachers’ knowledge and ability” ([Fives und Buehl 2008](#ref-fives2008)), „teacher identity” ([Zembylas und Chubbuck 2015](#ref-zembylas2015)), „collective beliefs” ([Tschannen-Moran et al. 2015](#ref-tschannenmoran2015)) und mit Bezug auf aktuelle bildungspolitische Entwicklungen ([Bell 2011](#ref-Bell2011)). Jedoch sind die im vorherigen Abschnitt vorgestellten Theorien der Lehrpersonenprofessionalität hauptsächlich im deutschsprachigen Kontext prominent, so dass die Seltenheit empirischer Forschung bezüglich Überzeugungen hierzu nicht überrascht. Eine Ausnahme davon stellt die Arbeit von Cramer et al. ([2023](#ref-cramer2023)) dar. Dort wurde einer repräsentativen Stichprobe von Lehrpersonen eine Batterie von 16 Likertitems vorgelegt, die die Zustimmung zu jeweils einem zentralen Aspekt eines der vier zuvor vorgestellten Ansätze erfasst (z.B. *Eine professionelle Lehrperson identifiziert über das gesamte Berufsleben hinweg individuelle Entwicklungsbedarfe*; *Eine professionelle Lehrperson ist sensibel für die Notwendigkeit, im Beruf fortwährend selbst hinzuzulernen* \\[berufsbiografischer Ansatz\\]; *Eine professionelle Lehrperson verfügt über fachliches Wissen als Voraussetzung für den Wissenserwerb ihrer Schülerinnen und Schüler*; *Eine professionelle Lehrperson ist von lernförderlichen Konzepten des Lehrens und Lernens überzeugt, die wissenschaftlich belegt sind* \\[kompetenzorientierter Ansatz\\]). Diese Items wurden im Zuge der Skalenentwicklung inhaltlich mit Expertinnen und Experten validiert und kognitiven Prätests unterzogen. Konfirmatorische Faktorenanalysen zeigten eine Überlegenheit einer vierdimensionalen Einfachstruktur, bei der jedes Item auf dem ihm a priori zugewiesenen Faktor (Professionalitätsansatz) lud, gegenüber einer einfaktoriellen Lösung. Jedoch lagen inkrementelle wie absolute (globale) Fitmaße unter einschlägigen Benchmarks. Daher führten Cramer et al. ([2023](#ref-cramer2023)) im Anschluss eine explorative Faktorenanalyse durch, die drei Faktoren ergab. Diese wurden 1) Professionalität als schulisches Handeln, 2) Professionalität als Anwendbarkeit von Wissen und Können sowie 3) Professionalität als reflexive Haltung genannt. Diese dreidimensionale a posteriori beschriebene Struktur, ist der a priori postulierten Struktur noch ähnlich, da sie nur durch Vertauschung von 6 (inhaltlich sehr plausiblen) Items aus der a priori angenommenen Struktur entsteht (Adjusted Rand Index .29). Unabhängig davon bleibt jedoch unklar, inwiefern das Instrument von Cramer et al. ([2023](#ref-cramer2023)) Professionalitätsüberzeugungen exhaustiv erfasst, wie domänenspezifisch diese sind und ob sie tatsächlich explizit bei den Befragten kognitiv repräsentiert sind ([Merk und Schmidt 2023](#ref-merk2023)): So sind die Ergebnisse auch mit der Annahme vereinbar, dass Lehrpersonen intuitiv Professionalität völlig unähnlich zu den Bildungswissenschaften fassen, den bildungswissenschaftlichen Überlegungen das erste Mal beim Beantworten des Fragebogen begegnen und daher das Instrument von Cramer et al ([2023](#ref-cramer2023)) eher spontane Urteilsbildungen erfasst als bestehende Überzeugungen. Die vorliegende Studie möchte zur Aufklärung dieser Unklarheiten beitragen, indem sie Professionalitätsüberzeugungen von Lehrpersonen zunächst mit einem offenen Item und anschließend mit dem Instrument von Cramer et al ([2023](#ref-cramer2023)) erfasst.\n",
    "\n",
    "## Forschungsfragen und Hypothesen\n",
    "\n",
    "### Forschungsfrage 1 (explorativ, präregistriert)\n",
    "\n",
    "Spiegeln sich die bildungswissenschaftlichen Professionalitätsansätze in den frei formulierten domänenspezifischen Professionalitätsüberzeugungen? Wir haben diesbezüglich keine a priori Hypothesen aufgestellt (explorative Forschungsfrage) und daher auch keine Hypothesen präregistriert.\n",
    "\n",
    "### Forschungsfrage 2 (konfirmatorisch, präregistriert)\n",
    "\n",
    "Lässt sich die von Cramer et al ([2023](#ref-cramer2023)) gefundene Faktorenstruktur domänenspezifisch (Fachdidaktik Deutsch) replizieren? Wir erwarten, dass die von Cramer et al ([2023](#ref-cramer2023)) gefundene Faktorenstruktur einer eindimensionalen Faktorenlösung und einer vierdimensionalen Faktorenlösung, die die a priori Strukturierung der Items entlang der vier prominenten Professionalisierungsansätze widerspiegelt, überlegen ist.\n",
    "\n",
    "### Forschungsfrage 3 (konfirmatorisch, nicht präregistriert)\n",
    "\n",
    "Unterscheiden sich offen und geschlossen erfasste Überzeugungen zur Professionalität in der Sprachdidaktik (Deutsch) von Überzeugungen zur Professionalität im Lehrberuf im allgemeinen (Domänenspezifität)? Basierend auf einschlägigen Rahmenmodellen und empirischen Befunden gehen wir von kleinen Unterschieden in Struktur- und Ausprägung der Überzeugungen aus.\n",
    "\n",
    "Da die untersuchten Effekte und Hypothesen in den Forschungsfragen 1 & 2 dieselben wie bei Cramer et al. ([2023](#ref-cramer2023)) sind, jedoch die untersuchte Population sowie die Operationalisierung der abhängigen Variable vom Original abweichen, kann für diese Forschungsfragen nach LeBel. et al. ([2018](#ref-lebel2018)) von einer weiten Replikation (und damit von einer konzeptuelle Replikation) gesprochen werden. Forschungsfrage 3 hingegen stellt keine Replikation dar.\n",
    "\n",
    "## Methode\n",
    "\n",
    "### Stichprobe"
   ],
   "id": "ac3e2404-5224-4944-9093-3e57e84864b3"
  },
  {
   "cell_type": "code",
   "execution_count": null,
   "metadata": {},
   "outputs": [
    {
     "output_type": "stream",
     "name": "stderr",
     "text": [
      "Warning: package 'flextable' was built under R version 4.4.1"
     ]
    },
    {
     "output_type": "stream",
     "name": "stderr",
     "text": [
      "Warning: package 'patchwork' was built under R version 4.4.1"
     ]
    },
    {
     "output_type": "stream",
     "name": "stderr",
     "text": [
      "Warning: package 'papaja' was built under R version 4.4.1"
     ]
    },
    {
     "output_type": "stream",
     "name": "stderr",
     "text": [
      "Loading required package: tinylabels"
     ]
    },
    {
     "output_type": "stream",
     "name": "stderr",
     "text": [
      "\n",
      "Attaching package: 'papaja'"
     ]
    },
    {
     "output_type": "stream",
     "name": "stderr",
     "text": [
      "The following object is masked from 'package:flextable':\n",
      "\n",
      "    theme_apa"
     ]
    },
    {
     "output_type": "stream",
     "name": "stderr",
     "text": [
      "Warning: package 'lavaan' was built under R version 4.4.1"
     ]
    },
    {
     "output_type": "stream",
     "name": "stderr",
     "text": [
      "This is lavaan 0.6-19\n",
      "lavaan is FREE software! Please report any bugs."
     ]
    },
    {
     "output_type": "stream",
     "name": "stderr",
     "text": [
      "Suggested APA citation: Thériault, R. (2023). lavaanExtra: Convenience functions for lavaan. \n",
      "Journal of Open Source Software, 8(90), 5701. https://doi.org/10.21105/joss.05701"
     ]
    },
    {
     "output_type": "stream",
     "name": "stderr",
     "text": [
      " "
     ]
    },
    {
     "output_type": "stream",
     "name": "stderr",
     "text": [
      "###############################################################################"
     ]
    },
    {
     "output_type": "stream",
     "name": "stderr",
     "text": [
      "This is semTools 0.5-6"
     ]
    },
    {
     "output_type": "stream",
     "name": "stderr",
     "text": [
      "All users of R (or SEM) are invited to submit functions or ideas for functions."
     ]
    },
    {
     "output_type": "stream",
     "name": "stderr",
     "text": [
      "###############################################################################"
     ]
    },
    {
     "output_type": "stream",
     "name": "stderr",
     "text": [
      "Warning: package 'tinytable' was built under R version 4.4.1"
     ]
    },
    {
     "output_type": "stream",
     "name": "stderr",
     "text": [
      "Warning: package 'sjPlot' was built under R version 4.4.1"
     ]
    },
    {
     "output_type": "stream",
     "name": "stderr",
     "text": [
      "#refugeeswelcome"
     ]
    },
    {
     "output_type": "stream",
     "name": "stderr",
     "text": [
      "Warning: package 'brms' was built under R version 4.4.1"
     ]
    },
    {
     "output_type": "stream",
     "name": "stderr",
     "text": [
      "Loading required package: Rcpp"
     ]
    },
    {
     "output_type": "stream",
     "name": "stderr",
     "text": [
      "Warning: package 'Rcpp' was built under R version 4.4.1"
     ]
    },
    {
     "output_type": "stream",
     "name": "stderr",
     "text": [
      "Loading 'brms' package (version 2.22.0). Useful instructions\n",
      "can be found by typing help('brms'). A more detailed introduction\n",
      "to the package is available through vignette('brms_overview')."
     ]
    },
    {
     "output_type": "stream",
     "name": "stderr",
     "text": [
      "\n",
      "Attaching package: 'brms'"
     ]
    },
    {
     "output_type": "stream",
     "name": "stderr",
     "text": [
      "The following object is masked from 'package:stats':\n",
      "\n",
      "    ar"
     ]
    },
    {
     "output_type": "stream",
     "name": "stderr",
     "text": [
      "Loading required package: ggplot2"
     ]
    },
    {
     "output_type": "stream",
     "name": "stderr",
     "text": [
      "\n",
      "Attaching package: 'moments'"
     ]
    },
    {
     "output_type": "stream",
     "name": "stderr",
     "text": [
      "The following object is masked from 'package:semTools':\n",
      "\n",
      "    kurtosis"
     ]
    },
    {
     "output_type": "stream",
     "name": "stderr",
     "text": [
      "Warning: package 'purrr' was built under R version 4.4.1"
     ]
    },
    {
     "output_type": "stream",
     "name": "stderr",
     "text": [
      "Warning: package 'lubridate' was built under R version 4.4.1"
     ]
    },
    {
     "output_type": "stream",
     "name": "stderr",
     "text": [
      "── Attaching core tidyverse packages ──────────────────────── tidyverse 2.0.0 ──\n",
      "✔ dplyr     1.1.4     ✔ readr     2.1.5\n",
      "✔ forcats   1.0.0     ✔ stringr   1.5.1\n",
      "✔ lubridate 1.9.4     ✔ tibble    3.2.1\n",
      "✔ purrr     1.0.4     ✔ tidyr     1.3.1"
     ]
    },
    {
     "output_type": "stream",
     "name": "stderr",
     "text": [
      "── Conflicts ────────────────────────────────────────── tidyverse_conflicts() ──\n",
      "✖ readr::clipboard() masks semTools::clipboard()\n",
      "✖ purrr::compose()   masks flextable::compose()\n",
      "✖ dplyr::filter()    masks stats::filter()\n",
      "✖ dplyr::lag()       masks stats::lag()\n",
      "ℹ Use the conflicted package (<http://conflicted.r-lib.org/>) to force all conflicts to become errors"
     ]
    }
   ],
   "source": [
    "library(flextable)"
   ],
   "id": "2d238279-6f3c-4a7e-bbd6-caa57d03483a"
  },
  {
   "cell_type": "code",
   "execution_count": null,
   "metadata": {},
   "outputs": [],
   "source": [
    "data <- read_sav(\"_data/data_suf.sav\") %>% \n",
    "  mutate(across(starts_with(\"PUe\"), function(x) ifelse(x %in% c(-1, -9), NA, x)),\n",
    "         spezifität = factor(ifelse(spezifität == 1, \"Fachdidaktik\", \"Global\")),\n",
    "         PID = CASE)\n",
    "\n",
    "# Stichprobengrößen\n",
    "n1 <- data %>% filter(spezifität == \"Fachdidaktik\") %>% nrow()\n",
    "n2 <- data %>% filter(spezifität == \"Global\") %>% nrow()\n",
    "\n",
    "# Anteil weiblich\n",
    "proz_weibl_n1 <- \n",
    "  data %>% \n",
    "  filter(BG22 == 1 & spezifität == \"Fachdidaktik\") %>%\n",
    "  nrow() / data %>% filter(spezifität == \"Fachdidaktik\") %>% nrow() * 100\n",
    "proz_weibl_n2 <- \n",
    "  data %>% \n",
    "  filter(BG22 == 1 & spezifität == \"Global\") %>%\n",
    "  nrow() / data %>% filter(spezifität == \"Global\") %>% nrow() * 100\n",
    "  \n",
    "# Anteil Dienst < 11J\n",
    "proz_djkl11_n1 <- \n",
    "  data %>% \n",
    "  filter(BG19  < 3 & spezifität == \"Fachdidaktik\") %>%\n",
    "  nrow() / data %>% filter(spezifität == \"Fachdidaktik\") %>% nrow() * 100\n",
    "proz_djkl11_n2 <- \n",
    "  data %>% \n",
    "  filter(BG19 < 3 & spezifität == \"Global\") %>%\n",
    "  nrow() / data %>% filter(spezifität == \"Global\") %>% nrow() * 100\n",
    "  \n",
    "# Anteil Dienst > 20J\n",
    "proz_djkl20_n1 <- \n",
    "  data %>% \n",
    "  filter(BG19  == 5 & spezifität == \"Fachdidaktik\") %>%\n",
    "  nrow() / data %>% filter(spezifität == \"Fachdidaktik\") %>% nrow() * 100\n",
    "proz_djkl20_n2 <- \n",
    "  data %>% \n",
    "  filter(BG19 == 5 & spezifität == \"Global\") %>%\n",
    "  nrow() / data %>% filter(spezifität == \"Global\") %>% nrow() * 100\n",
    "  \n",
    "# Anteil MINT  \n",
    "proz_mint_n1 <- \n",
    "  data %>% \n",
    "  filter(BG21_02  == 1 & spezifität == \"Fachdidaktik\") %>%\n",
    "  nrow() / data %>% filter(spezifität == \"Fachdidaktik\") %>% nrow() * 100\n",
    "proz_mint_n2 <- \n",
    "  data %>% \n",
    "  filter(BG21_02  == 1 & spezifität == \"Global\") %>%\n",
    "  nrow() / data %>% filter(spezifität == \"Global\") %>% nrow() * 100"
   ],
   "id": "31f0d4e6-d3da-44e4-a886-10007da2fee0"
  },
  {
   "cell_type": "markdown",
   "metadata": {},
   "source": [
    "Forschungsfragen 1 und 2 wurden mit Daten von $N_1 =$ 206 Deutschlehrpersonen (Stichprobe 1: 73.3% weiblich, 17.5% weniger als 11 Dienstjahre, 44.7% mehr als 20 Dienstjahre, 38.8% mindestens ein MINT-Fach als weiteres Fach) aus Deutschland beantwortet. Diese wurden aus einem Panel eines Felddienstleisters rekrutiert. Für die Bearbeitung von Forschungsfrage 3 wurden weitere $N_2 =$ 105 Deutschlehrpersonen (Stichprobe 2: 74.3% weiblich, 13.3% weniger als 11 Dienstjahre, 52.4% mehr als 20 Dienstjahre, 44.8% mindestens ein MINT-Fach als weiteres Fach) aus demselben Panel rekrutiert. Die Größe von Stichprobe 1 wurde a priori anhand einer Simulationsstudie ([siehe reproduzierbarer Code](_notebooks/sample_size_sufficiency_analysis-preview.html) determiniert. Die Größe von Stichprobe 2 war nicht a priori geplant und durch Projektressourcen pragmatisch limitiert ([Lakens 2022](#ref-lakens2022)).\n",
    "\n",
    "### Instrument\n",
    "\n",
    "In beiden Stichproben wurden zunächst die Professionalitätsüberzeugungen der befragten Deutschlehrpersonen mit einem offenen Item erfasst (Wortlaut Stichprobe 1: „*Wir interessieren uns nun dafür, was Ihrer Ansicht nach »Professionalität« in der Deutsch-Fachdidaktik (Sprache) ausmacht. Bitte antworten Sie in ganzen Sätzen um Missverständnisse zu vermeiden und formulieren Sie möglichst drei Aspekte. Eine »professionelle« Lehrperson in der Deutsch-Fachdidaktik (Sprache) …*”, Wortlaut Stichprobe 2: „*Wir interessieren uns nun dafür, was Ihrer Ansicht nach »Professionalität« einer Lehrperson ausmacht. Bitte antworten Sie in ganzen Sätzen um Missverständnisse zu vermeiden und formulieren Sie möglichst drei Aspekte. Eine »professionelle« Lehrperson …*”). Danach wurde den Lehrpersonen das Instrument von Cramer et al ([2023](#ref-cramer2023))vorgelegt. In Stichprobe 1 (domänenspezifische Überzeugungen) lautete der Itemstamm „*Eine professionelle Lehrperson in der Deutsch-Fachdidaktik (Sprache) …*”, während in Stichprobe 2 der originale Itemstamm („*Eine professionelle Lehrperson …*”) zur Erfassung globaler Professionalitätsüberzeugungen beibehalten wurde. In beiden Stichproben wurden die 16 Originalitems verwendet. Davon zielen jeweils vier auf die Erfassung der Überzeugungen eines der zuvor geschilderten bildungswissenschaftlichen Ansätze der Professionalität von Lehrpersonen.\n",
    "\n",
    "## Statistische Modellierung\n",
    "\n",
    "### Word Embeddings und Ähnlichkeitsanalyse\n",
    "\n",
    "Da sich Forschungsfrage 1 für das Vorkommen der Ideen bildungswissenschaftlicher Professionalitätsansätze in den spontan geäußerten Professionalitätsüberzeugungen in Freitextantworten interessiert, wurden zunächst Sentence Embeddings ([Reimers und Gurevych 2019](#ref-reimers2019a)) sowohl aller drei Antworten der Befragten, als auch aller geschlossener 16 Likertitems in zwei große prätrainierte Transformermodelle (Ger-RoSBERTa, [Reimers und Gurevych 2019](#ref-reimers2019a); OpenAI text-embedding-ada-002 [OpenAI 2022](#ref-greene2024)) vorgenommen. Unabhängig von der spezifischen Architektur der jeweiligen Modelle ist deren zentrales Konzept, die semantische Kernaussage eines Satzes als Vektor in einem hochdimensionalen Raum zu repräsentieren ([Reimers und Gurevych 2019](#ref-reimers2019a)). Die semantische Ähnlichkeit zweier Sätze - also zum Beispiel der Freitextantwort „*Eine Lehrkraft ist in der Fachdidaktik Deutsch dann professionell, wenn sie fundierte, sicher anwendungsbereite Kenntnisse in Grammatik, Rechtschreibung, Ausdruck, Textsorten, Epochen und Werkkenntnissen hat*” und des Items „*Eine professionelle Lehrperson verfügt über fachliches Wissen als Voraussetzung für den Wissenserwerb ihrer Schülerinnen und Schüler*” kann dann als Winkel zwischen diesen beiden Vektoren quantifiziert werden ([Kjell et al. 2023](#ref-kjell2023)). Dementsprechend wurden vorliegend alle Ähnlichkeiten von allen offenen Antworten zu allen Items berechnet. Diese Ähnlichkeiten stellten dann die abhängige Variable in einer bayesianischen Mehrebenenregression für beta-verteilte Variablen dar, welche mit Dummyvariablen der entsprechenden bildungswissenschaftlichen Ansätze (des betreffenden Items) prädiziert wurden. Nimmt man an, dass die geschlossenen Items jeweils den entsprechenden bildungswissenschaftlichen Ansatz repräsentieren, müsste das Embedding einer Freitextantwort, die z.B. einer kompetenzorientierten Professionalitätsüberzeugung entspricht, ähnlicher zu allen vier kompetenzorientierten Items sein, als zu den Embeddings der restlichen Items.\n",
    "\n",
    "### Faktorenanalysen\n",
    "\n",
    "Um die Faktorenstruktur der 16 geschlossenen Items zu evaluieren, wurde wie präregistriert vorgegangen: Es wurde ein eindimensionales Modell, weiterhin ein vierdimensionales Modell das die a priori Struktur (strukturtheoretischer, kompetenzorientierter, berufsbiografischer und metareflektiver Ansatz) beinhaltet und schließlich ein vierdimensionales Modell das die empirisch von Cramer et al. ([2023](#ref-cramer2023)) gefundene a posteriori Struktur abbildet spezifiziert (jeweils mit $\\tau$-kongenerischen Messmodellen). Die Modellanpassungsgüte wurde dann wie präregistriert anhand des $\\chi^2$-Wertes, des Confirmatory Fit Indexes (CFI), des Root Mean Square Error of Approximation (RMSEA), den Standardized Root Mean Square Residuals (SRMR), dem Bayesian Information Criterion (BIC) und dem Akaike Information Criterion (AIC) verglichen (siehe [Präregistrierung](PreReg_geschwaerzt.pdf)). Um die nicht präregistrierte Forschungsfrage 3 zu beantworten, wurden die Autoren der Originalstudie für die Möglichkeit einer Sekundäranalyse angefragt. Nach Erhalt der Daten wurden diese mit der vorliegenden Stichprobe zusammengelegt und anschließend Messinvarianzanalysen ([Luong und Flake 2023](#ref-luong2023); [Robitzsch und Lüdtke 2023](#ref-robitzsch2023)) des in beiden Stichproben überlegenen a posteriori Modells mittels konfirmatorischer Mehrgruppen-Faktorenmodelle durchgeführt.\n",
    "\n",
    "## Ergebnisse\n",
    "\n",
    "### Forschungsfrage 1"
   ],
   "id": "8210df50-4b11-415f-88f3-b3937dd90859"
  },
  {
   "cell_type": "code",
   "execution_count": null,
   "metadata": {},
   "outputs": [
    {
     "output_type": "stream",
     "name": "stderr",
     "text": [
      "Rows: 14704 Columns: 5\n",
      "── Column specification ────────────────────────────────────────────────────────\n",
      "Delimiter: \",\"\n",
      "chr (3): item, apriori_faktor, aposteriori_faktor\n",
      "dbl (2): PID, similarity\n",
      "\n",
      "ℹ Use `spec()` to retrieve the full column specification for this data.\n",
      "ℹ Specify the column types or set `show_col_types = FALSE` to quiet this message.\n",
      "Joining with `by = join_by(PID)`"
     ]
    },
    {
     "output_type": "stream",
     "name": "stderr",
     "text": [
      "Rows: 14704 Columns: 6\n",
      "── Column specification ────────────────────────────────────────────────────────\n",
      "Delimiter: \",\"\n",
      "chr (4): item, apriori_faktor, aposteriori_faktor, spezifität\n",
      "dbl (2): PID, similarity\n",
      "\n",
      "ℹ Use `spec()` to retrieve the full column specification for this data.\n",
      "ℹ Specify the column types or set `show_col_types = FALSE` to quiet this message.\n",
      "Joining with `by = join_by(PID, spezifität)`"
     ]
    }
   ],
   "source": [
    "data_grosberta <- \n",
    "  read_csv(\"_data/data_grosberta_embeddings.csv\") %>% \n",
    "  # spezifität joinen\n",
    "  full_join(data %>% select(PID, spezifität))"
   ],
   "id": "f6c21bf8-12d5-421f-adfa-82c538747e6e"
  },
  {
   "cell_type": "markdown",
   "metadata": {},
   "source": [
    "Die $N_1 =$ 206 Deutschlehrpersonen aus Stichprobe 1 gaben im Durschnitt 2.97 frei formulierte Antworten auf die Frage was ihrer Meinung nach Professionalität in der Sprachdidaktik Deutsch ausmacht. Alle Antworten sind im [Online-Supplement](_notebooks/word_embeddings-preview.html#tbl-Antwort-Item-Ähnlichkeit) vollständig abgebildet"
   ],
   "id": "1edf7ac2-ae04-4e92-8c99-6768307dbcfd"
  },
  {
   "cell_type": "code",
   "execution_count": null,
   "metadata": {},
   "outputs": [
    {
     "output_type": "stream",
     "name": "stderr",
     "text": [
      "Joining with `by = join_by(PID, item, similarity, apriori_faktor,\n",
      "aposteriori_faktor, spezifität, Embedding)`"
     ]
    },
    {
     "output_type": "display_data",
     "metadata": {},
     "data": {}
    }
   ],
   "source": [
    "data_embeddings <- \n",
    "  data_grosberta %>% \n",
    "  mutate(Embedding = \"Ger-RoSBERTa\") %>% \n",
    "  full_join(\n",
    "    data_openai %>% \n",
    "      mutate(Embedding = \"OpenAI\")) %>% \n",
    "  mutate(Ähnlichkeit = similarity)"
   ],
   "id": "cell-fig-embeddings"
  },
  {
   "cell_type": "markdown",
   "metadata": {},
   "source": [
    "Um zu eruieren, inwiefern diese offenen Antworten Ideen der vier oben beschriebenen bildungswissenschaftlichen Ansätze enthalten, wurde die Ähnlichkeit aller Antworten zu allen Items des Instrumentes von Cramer et al. ([2023](#ref-cramer2023)) in zwei Transformermodellen bestimmt. Diese Ähnlichkeiten zeigten sich als unimodal und sehr ähnlich in ihren Verteilungsformen über die beiden gewählten Transformermodelle hinweg (siehe <a href=\"#fig-embeddings\" class=\"quarto-xref\">Abbildung 1</a>)."
   ],
   "id": "ebcfb310-07e3-46cd-8e93-a41f9a3cc423"
  },
  {
   "cell_type": "code",
   "execution_count": null,
   "metadata": {},
   "outputs": [
    {
     "output_type": "stream",
     "name": "stderr",
     "text": [
      "`summarise()` has grouped output by 'Embedding'. You can override using the\n",
      "`.groups` argument."
     ]
    }
   ],
   "source": [
    "data_embeddings %>% \n",
    "  filter(spezifität == \"Fachdidaktik\") %>% \n",
    "  group_by(Embedding, apriori_faktor) %>% \n",
    "  summarize(Min = min(Ähnlichkeit),\n",
    "            Max = max(Ähnlichkeit),\n",
    "            Med = median(Ähnlichkeit),\n",
    "            MW = mean(Ähnlichkeit),\n",
    "            SD = sd(Ähnlichkeit),\n",
    "            Schiefe = skewness(Ähnlichkeit),\n",
    "            Kurtosis = kurtosis(Ähnlichkeit)) %>% \n",
    "  ungroup() %>% \n",
    "  tinytable::tt(digits = 2)"
   ],
   "id": "d336a55b-8df5-4e54-aa11-90fd19018a34"
  },
  {
   "cell_type": "markdown",
   "metadata": {},
   "source": [
    "Die unterschiedlichen Mittelwerte in <a href=\"#fig-embeddings\" class=\"quarto-xref\">Abbildung 1</a> deuten auf eine Repräsentation der in den bildungswissenschaftlichen Professionalitätsansätzen enthaltenen Ideen in den offenen Antworten hin. Um diese auch inferenzstatistisch zu modellieren wurden bayesianische Mehrebenen-Beta-Regressionsmodelle spezifiziert, in denen die Ähnlichkeiten zwischen Itemwortlaut und Wortlaut der offenen Antwort die abhängige Variable darstellten und dummykodierte Indikatorvariablen der a priori Zuordnung der Variablen die unabhängige Variable. Um der genesteten Struktur der Daten (mehrere Antworten pro Lehrperson) Rechnung zu tragen, wurden Random Intercepts im R-Paket brms ([Bürkner 2017](#ref-bürkner2017)) spezifiziert (siehe [Reproduzierbarer Code](index-preview.html#ergebnisse)), welches wiederum die probabilistische Sprach Stan ([Stan Development Team 2024](#ref-standevelopmentteam2024)) nutzt. Für alle zu schätzenden Parameter wurden nicht-informative Priorverteiltungen spezifiziert, wodurch die Punktschätzung vollständig durch die Likelihood der Daten getrieben ist ([Lemoine 2019](#ref-lemoine2019); [Winter und Bürkner 2021](#ref-winter2021)). Die numerische Qualität der vier unabhängigen Marcov-Chain-Monte-Carlo-Samplings wurde mithilfe von Trace-Plots, $\\hat{R}$-Werten sowie Bulk- und Tail-Effective-Sample-Sizes bewertet."
   ],
   "id": "62a8cc38-24d3-4bb2-a4b4-ca70da1301bf"
  },
  {
   "cell_type": "code",
   "execution_count": null,
   "metadata": {},
   "outputs": [],
   "source": [
    "reg_grosberta01 <- \n",
    "  brm(bf(similarity ~ apriori_faktor + (1|PID),\n",
    "         phi ~ apriori_faktor + (1|PID)),\n",
    "      data = \n",
    "        data_grosberta %>% \n",
    "        filter(spezifität == \"Fachdidaktik\"),\n",
    "      cores = 4,\n",
    "      iter = 6000,\n",
    "      family = Beta(),\n",
    "      seed = 1893)\n",
    "plot(reg_grosberta01)\n",
    "pp_check(reg_grosberta01)\n",
    "summary(reg_grosberta01)\n",
    "\n",
    "reg_openai01 <- \n",
    "  brm(bf(similarity ~ apriori_faktor + (1|PID),\n",
    "         phi ~ apriori_faktor + (1|PID)),\n",
    "      data = \n",
    "        data_openai %>% \n",
    "        filter(spezifität == \"Fachdidaktik\"),\n",
    "      cores = 4,\n",
    "      iter = 6000,\n",
    "      family = Beta(),\n",
    "      seed = 1893)\n",
    "plot(reg_openai01)\n",
    "pp_check(reg_openai01)\n",
    "summary(reg_openai01)\n",
    "\n",
    "# Da das MCMC Sampling zeitintensiv ist, werden die Objekte gespeichert\n",
    "save(reg_grosberta01, reg_openai01, \n",
    "     file = \"_data/regs01.RData\")"
   ],
   "id": "735045c7-e849-4e03-970f-5ff00067f5a8"
  },
  {
   "cell_type": "markdown",
   "metadata": {},
   "source": [
    "Betrachtet man die bedingten Effekte dieser Modelle (siehe <a href=\"#tbl-conditional-effects-embeddings\" class=\"quarto-xref\">Tabelle 2</a>), fällt auf, dass deren Punktschätzung sehr gut mit den deskriptiven Ergebnissen korrespondiert und die 95%-Kredibilitätsintervalle sehr eng sind."
   ],
   "id": "615d72be-0ca5-4257-ac90-1127963dbc05"
  },
  {
   "cell_type": "code",
   "execution_count": null,
   "metadata": {},
   "outputs": [
    {
     "output_type": "stream",
     "name": "stderr",
     "text": [
      "Joining with `by = join_by(`A priori Faktor`, Ähnlichkeit, `95%-CI`)`"
     ]
    }
   ],
   "source": [
    "# Regressionsobjekte importieren\n",
    "load(\"_data/regs01.RData\")\n",
    "\n",
    "conditional_effects(reg_grosberta01)[[1]] %>% \n",
    "  mutate(Embedding = \"Ger-RoSBERTa\",\n",
    "         `A priori Faktor` = apriori_faktor,\n",
    "         Ähnlichkeit = format(round(estimate__, 3), nsmall = 3),\n",
    "         `95%-CI` = paste0(\"[\",\n",
    "                           format(round(lower__, 3), nsmall = 3),\n",
    "                           \"; \",\n",
    "                           format(round(upper__, 3), nsmall = 3),\n",
    "                           \"]\")) %>% \n",
    "  select(`A priori Faktor`, Ähnlichkeit, `95%-CI`) %>% \n",
    "  full_join(\n",
    "    conditional_effects(reg_openai01)[[1]] %>% \n",
    "      mutate(Embedding = \"openAI\",\n",
    "             `A priori Faktor` = apriori_faktor,\n",
    "             Ähnlichkeit = format(round(estimate__, 3), nsmall = 3),\n",
    "             `95%-CI` = paste0(\"[\",\n",
    "                               format(round(lower__, 3), nsmall = 3),\n",
    "                               \"; \",\n",
    "                               format(round(upper__, 3), nsmall = 3),\n",
    "                               \"]\")) %>% \n",
    "      select(`A priori Faktor`, Ähnlichkeit, `95%-CI`)\n",
    "  ) %>% \n",
    "  tt() %>% \n",
    "  group_tt(\n",
    "    i = list(\n",
    "      \"Ger-RoSBERTa Embeddings\" = 1,\n",
    "      \"OpenAI Embeddings\" = 5\n",
    "    )\n",
    "  ) %>% \n",
    "  style_tt(\n",
    "    i = c(1, 6),\n",
    "    align = \"c\"\n",
    "  )"
   ],
   "id": "7526ffb1-4abe-4368-8df2-c56491fb01ec"
  },
  {
   "cell_type": "markdown",
   "metadata": {},
   "source": [
    "### Forschungsfrage 2\n",
    "\n",
    "Da Forschungsfrage 2 sich für die Replikation der Ergebnisse von Cramer et al. ([2023](#ref-cramer2023)) interessiert, wurde wie präregistriert die Passung dreier konfirmatorischer Faktorenanalysen verglichen."
   ],
   "id": "22b6b120-6d8c-4101-9279-e808761f106f"
  },
  {
   "cell_type": "code",
   "execution_count": null,
   "metadata": {},
   "outputs": [
    {
     "output_type": "stream",
     "name": "stderr",
     "text": [
      "Warning: lavaan->lav_object_post_check():  \n",
      "   covariance matrix of latent variables is not positive definite ; use \n",
      "   lavInspect(fit, \"cov.lv\") to investigate."
     ]
    }
   ],
   "source": [
    "data_cfa_fachdidaktik <- \n",
    "  data %>% \n",
    "  filter(spezifität == \"Fachdidaktik\") %>%\n",
    "  select(starts_with(\"PUe\"), starts_with(\"PU01\")) %>%\n",
    "  mutate(PU01_01 = ifelse(PU01_01 == \"\", NA, PU01_01),\n",
    "         PU01_02 = ifelse(PU01_02 == \"\", NA, PU01_02),\n",
    "         PU01_03 = ifelse(PU01_03 == \"\", NA, PU01_03))\n",
    "\n",
    "cfa_mod_onedim <- \n",
    "  \"pro =~ PUe_KO1 + PUe_KO2 + PUe_KO3 + PUe_KO4 +\n",
    "          PUe_ST1 + PUe_ST2 + PUe_ST3 + PUe_ST4 +\n",
    "          PUe_BB1 + PUe_BB2 + PUe_BB3 + PUe_BB4 +\n",
    "          PUe_MR1 + PUe_MR2 + PUe_MR3 + PUe_MR4\" \n",
    "\n",
    "cfa_mod_apriori <- \n",
    "  \"kom =~ PUe_KO1 + PUe_KO2 + PUe_KO3 + PUe_KO4\n",
    "   str =~ PUe_ST1 + PUe_ST2 + PUe_ST3 + PUe_ST4\n",
    "   bio =~ PUe_BB1 + PUe_BB2 + PUe_BB3 + PUe_BB4\n",
    "   met =~ PUe_MR1 + PUe_MR2 + PUe_MR3 + PUe_MR4\"\n",
    "\n",
    "cfa_mod_aposteriori <- \n",
    "  \"sh =~ PUe_BB1 + PUe_BB3 + PUe_BB4 +\n",
    "         PUe_ST3 + PUe_ST4 + PUe_KO4 + PUe_MR1\n",
    "   aw =~ PUe_KO1 + PUe_KO2 + PUe_KO3\n",
    "   rh =~ PUe_ST1 + PUe_ST2 + PUe_MR4\"\n",
    "\n",
    "cfa_fit_fachd_onedim <-\n",
    "  cfa(cfa_mod_onedim, data = data_cfa_fachdidaktik)\n",
    "cfa_fit_fachd_apriori <- \n",
    "  cfa(cfa_mod_apriori, data = data_cfa_fachdidaktik)"
   ],
   "id": "eb914988-2682-44ed-87d3-fd207c60aa48"
  },
  {
   "cell_type": "markdown",
   "metadata": {},
   "source": [
    "Dabei zeigte sich auf den vorliegenden Daten (Stichprobe 1) passend zur präregistrierten Hypothese der beste Fit für das a-posteriori-Modell (χ² = 120.300, *df* = 62, RMSEA = 0.072, SRMR = 0.062, BIC = 6268.2, AIC = 6175.5) im Vergleich zur eindimensionales Lösung (χ² = 222.900, *df* = 104, RMSEA = 0.080, SRMR = 0.073, BIC = 7478.0, AIC = 7376.2), welche wiederum dem a-priori-Modell (χ² = 185.400, *df* = 98, RMSEA = 0.071, SRMR = 0.070, BIC = 7471.6, AIC = 7350.7) signifikant unterlegen war (Δχ² = 37.503, Δ*df* = 6.000, *p* \\< .001). Obwohl diese Ergebnisse der präregistrierten Hypothese entsprechen, muss jedoch angemerkt werden, dass auch das empirisch favorisierte Modell in einigen nicht-präregistrierten Fit-Indices (z.B. Tucker Lewis Index \\[TLI\\], Confirmatory Fit Index \\[CFI\\]) Werte aufzeigen, die auf eine mangelnde Passung hinweisen (TLI = 0.850, CFI = 0.880) und zudem die Varianz-Kovarianz-Matrix der latenten Variablen des a-priori-Modells nicht positiv definit war.\n",
    "\n",
    "### Forschungsfrage 3\n",
    "\n",
    "Zur Bearbeitung der Forschungsfrage 3 wurden zwei weitere Datensätze hinzugezogen: Zum Vergleich der offen erfassten globalen und fachdidaktik-spezifischen Professionalitätsüberzeugungen wurden dieselben Regressionsmodelle wie in <a href=\"#sec-word-embeddings\" class=\"quarto-xref\">Kapitel 0.6.1</a> spezifiziert, jedoch die Daten von Stichprobe 1 und 2 verwendet und um Interaktionseffekte für die Domänenspezifität ergänzt."
   ],
   "id": "cb1d4819-f9c5-439a-b561-d758ff8deb57"
  },
  {
   "cell_type": "code",
   "execution_count": null,
   "metadata": {},
   "outputs": [],
   "source": [
    "reg_grosberta02 <- \n",
    "  brm(bf(similarity ~ apriori_faktor*spezifität + (1|PID),\n",
    "         phi ~ apriori_faktor*spezifität + (1|PID)),\n",
    "      data = \n",
    "        data_grosberta,\n",
    "      cores = 4,\n",
    "      iter = 6000,\n",
    "      family = Beta(),\n",
    "      seed = 1893)\n",
    "plot(reg_grosberta02)\n",
    "pp_check(reg_grosberta02)\n",
    "summary(reg_grosberta02)\n",
    "\n",
    "reg_openai02 <- \n",
    "  brm(bf(similarity ~ apriori_faktor*spezifität + (1|PID),\n",
    "         phi ~ apriori_faktor*spezifität + (1|PID)),\n",
    "      data = \n",
    "        data_openai,\n",
    "      cores = 4,\n",
    "      family = Beta(),\n",
    "      seed = 1893)\n",
    "plot(reg_openai02)\n",
    "pp_check(reg_openai02)\n",
    "summary(reg_openai02)\n",
    "\n",
    "# Da das MCMC Sampling zeitintensiv ist, werden die Objekte gespeichert\n",
    "save(reg_grosberta02, reg_openai02, \n",
    "     file = \"_data/regs02.RData\")"
   ],
   "id": "6baefef3-f5ad-495e-baf5-a49747487ff1"
  },
  {
   "cell_type": "code",
   "execution_count": null,
   "metadata": {},
   "outputs": [
    {
     "output_type": "stream",
     "name": "stderr",
     "text": [
      "Joining with `by = join_by(PID, item, similarity, apriori_faktor,\n",
      "aposteriori_faktor, spezifität, embedding)`"
     ]
    }
   ],
   "source": [
    "regs02_d <- \n",
    "  data_grosberta %>% \n",
    "  mutate(embedding = \"grosberta\") %>% \n",
    "  full_join(\n",
    "    data_openai %>% \n",
    "      mutate(embedding = \"openai\")) %>% \n",
    "  nest_by(embedding, apriori_faktor) %>% \n",
    "  mutate(d = effsize::cohen.d(similarity ~ spezifität, data = data)$estimate) %>% \n",
    "  mutate(d = -d)"
   ],
   "id": "e9fb83de-90d3-42c7-b10d-0934fd723787"
  },
  {
   "cell_type": "markdown",
   "metadata": {},
   "source": [
    "Diese Interaktionseffekte sind in <a href=\"#fig-cond-eff-reg-ff3\" class=\"quarto-xref\">Abbildung 2</a> dargestellt und zeigen im Wesentlichen eine sehr starke Überlappung der Ähnlichkeiten der offenen Antworten zu den Items der bildungswissenschaftlichen Professionalitätsansätze. Die Ähnlichkeiten scheinen also relativ unabhängig davon zu sein, ob die Lehrpersonen dazu aufgefordert wurden zu beschreiben was Professionalität im Lehrberuf ausmacht (globale Professionalitätsüberzeugung) oder was Professionalität in der Fachdidaktik Deutsch (Sprache) ausmacht. Gleichzeitig fällt auf, dass die Ähnlichkeiten (mit einer Ausnahme von *d* = -0.07) der Antworten auf die Frage nach den globalen Professionalitätsüberzeugungen etwas größer ausfallen (0.05 ≤ *d* ≤ 0.30). Dies ist plausibel, da die Items von Cramer et al. ([2023](#ref-cramer2023)) zu denen die Ähnlichkeit der offenen Antworten bestimmt wurde, ebenfalls globale Professionalitätsüberzeugungen erfassen."
   ],
   "id": "8ee9ae3b-e0b9-4351-bc10-9e8cdba0a025"
  },
  {
   "cell_type": "code",
   "execution_count": null,
   "metadata": {},
   "outputs": [
    {
     "output_type": "stream",
     "name": "stderr",
     "text": [
      "Warning: Using `size` aesthetic for lines was deprecated in ggplot2 3.4.0.\n",
      "ℹ Please use `linewidth` instead."
     ]
    },
    {
     "output_type": "stream",
     "name": "stderr",
     "text": [
      "`summarise()` has grouped output by 'apriori_faktor'. You can override using\n",
      "the `.groups` argument."
     ]
    },
    {
     "output_type": "stream",
     "name": "stderr",
     "text": [
      "`summarise()` has grouped output by 'apriori_faktor'. You can override using\n",
      "the `.groups` argument."
     ]
    },
    {
     "output_type": "display_data",
     "metadata": {},
     "data": {}
    }
   ],
   "source": [
    "# Import der Regressionsobjekte\n",
    "load(\"_data/regs02.RData\")\n",
    "\n",
    "# Berechnung der conditional effects\n",
    "cond_eff_reg_grosberta02 <- \n",
    "  conditional_effects(reg_grosberta02)[[3]] %>% \n",
    "  mutate(Ähnlichkeit = estimate__,\n",
    "         Domänenspezifität = spezifität,\n",
    "         `A priori Faktor` = apriori_faktor)\n",
    "\n",
    "cond_eff_reg_openai02 <- \n",
    "  conditional_effects(reg_openai02)[[3]] %>% \n",
    "  mutate(Ähnlichkeit = estimate__,\n",
    "         Domänenspezifität = spezifität,\n",
    "         `A priori Faktor` = apriori_faktor)\n",
    "\n",
    "# Plot\n",
    "cond_eff_grosberta02_plot_ff3 <- \n",
    "  ggplot() +\n",
    "  geom_point(data = cond_eff_reg_grosberta02,\n",
    "             aes(`A priori Faktor`, Ähnlichkeit, color = Domänenspezifität),\n",
    "             position = position_dodge(width = .5),\n",
    "             ) +\n",
    "  geom_linerange(data = cond_eff_reg_grosberta02,\n",
    "                 aes(x = `A priori Faktor`, color = Domänenspezifität,\n",
    "                     ymin = lower__, ymax = upper__),\n",
    "                 position = position_dodge(width = .5),\n",
    "                 size = 3,\n",
    "                 alpha = .3) +\n",
    "  geom_linerange(data = data_grosberta %>% \n",
    "                   group_by(apriori_faktor, spezifität) %>% \n",
    "                   summarize(mean_emp = mean(similarity),\n",
    "                             sd_emp = sd(similarity),\n",
    "                             mean_plus_sd = mean_emp + sd_emp,\n",
    "                             mean_minus_sd = mean_emp - sd_emp) %>% \n",
    "                   mutate(`A priori Faktor` = apriori_faktor,\n",
    "                          Domänenspezifität = spezifität),\n",
    "                 aes(x = `A priori Faktor`, color = Domänenspezifität,\n",
    "                     ymin = mean_minus_sd, ymax = mean_plus_sd),\n",
    "                 position = position_dodge(width = .5)) +\n",
    "  ggtitle(\"Ger-RoSBERTa\") +\n",
    "  theme_ipsum(base_family = \"Arial\")"
   ],
   "id": "cell-fig-cond-eff-reg-ff3"
  },
  {
   "cell_type": "markdown",
   "metadata": {},
   "source": [
    "Abschließend wurden konfirmatorische Zweigruppen-Faktorenanalysen durchgeführt, um die Domänenspezifität auch auf Itemebene zu untersuchen. Dabei wurde sowohl für die a priori als auch die a posteriori Faktorenstruktur in einer Serie von Modellen sukzessive Faktorenstruktur, Ladungen, Intercepts und Residualvarianzen der Items als zwischen den Gruppen gleich restringiert."
   ],
   "id": "1540fb1a-91e4-4491-8730-f55c94a47c26"
  },
  {
   "cell_type": "code",
   "execution_count": null,
   "metadata": {},
   "outputs": [
    {
     "output_type": "stream",
     "name": "stderr",
     "text": [
      "Joining with `by = join_by(PUe_BB1, PUe_BB4, PUe_KO3, PUe_ST1, PUe_BB3,\n",
      "PUe_KO1, PUe_ST3, PUe_ST2, PUe_MR4, PUe_KO4, PUe_MR1, PUe_KO2, PUe_ST4,\n",
      "PUe_MR2, PUe_MR3, PUe_BB2, spezifität)`"
     ]
    },
    {
     "output_type": "stream",
     "name": "stderr",
     "text": [
      "Warning: lavaan->lav_object_post_check():  \n",
      "   covariance matrix of latent variables is not positive definite in group 1; \n",
      "   use lavInspect(fit, \"cov.lv\") to investigate."
     ]
    },
    {
     "output_type": "stream",
     "name": "stderr",
     "text": [
      "Warning: lavaan->lav_object_post_check():  \n",
      "   covariance matrix of latent variables is not positive definite in group 2; \n",
      "   use lavInspect(fit, \"cov.lv\") to investigate."
     ]
    },
    {
     "output_type": "stream",
     "name": "stderr",
     "text": [
      "Warning: lavaan->lav_object_post_check():  \n",
      "   covariance matrix of latent variables is not positive definite in group 1; \n",
      "   use lavInspect(fit, \"cov.lv\") to investigate.\n",
      "Warning: lavaan->lav_object_post_check():  \n",
      "   covariance matrix of latent variables is not positive definite in group 2; \n",
      "   use lavInspect(fit, \"cov.lv\") to investigate."
     ]
    },
    {
     "output_type": "stream",
     "name": "stderr",
     "text": [
      "Warning: lavaan->lav_object_post_check():  \n",
      "   covariance matrix of latent variables is not positive definite in group 1; \n",
      "   use lavInspect(fit, \"cov.lv\") to investigate.\n",
      "Warning: lavaan->lav_object_post_check():  \n",
      "   covariance matrix of latent variables is not positive definite in group 2; \n",
      "   use lavInspect(fit, \"cov.lv\") to investigate."
     ]
    },
    {
     "output_type": "stream",
     "name": "stderr",
     "text": [
      "Warning: lavaan->lav_object_post_check():  \n",
      "   covariance matrix of latent variables is not positive definite in group 2; \n",
      "   use lavInspect(fit, \"cov.lv\") to investigate."
     ]
    },
    {
     "output_type": "stream",
     "name": "stderr",
     "text": [
      "Using standard SRMR (as unbiased SRMR is unavailable)\n",
      "Using standard SRMR (as unbiased SRMR is unavailable)\n",
      "Using standard SRMR (as unbiased SRMR is unavailable)\n",
      "Using standard SRMR (as unbiased SRMR is unavailable)"
     ]
    },
    {
     "output_type": "stream",
     "name": "stderr",
     "text": [
      "Using standard SRMR (as unbiased SRMR is unavailable)\n",
      "Using standard SRMR (as unbiased SRMR is unavailable)\n",
      "Using standard SRMR (as unbiased SRMR is unavailable)\n",
      "Using standard SRMR (as unbiased SRMR is unavailable)"
     ]
    },
    {
     "output_type": "stream",
     "name": "stderr",
     "text": [
      "Joining with `by = join_by(Modell, `χ²`, df, CFI, SRMR, BIC, `P(Δχ²)`,\n",
      "Struktur)`"
     ]
    }
   ],
   "source": [
    "# Import der Rohdaten aus Cramer et al (2023)\n",
    "data_original <-\n",
    "  read_spss(\"_data/data_original_study.sav\") %>%\n",
    "  rename(\n",
    "    PUe_BB1 = f1_1,\n",
    "    PUe_BB4 = f1_2,\n",
    "    PUe_KO3 = f1_3,\n",
    "    PUe_ST1 = f1_4,\n",
    "    PUe_BB3 = f1_5,\n",
    "    PUe_KO1 = f1_6,\n",
    "    PUe_ST3 = f1_7,\n",
    "    PUe_ST2 = f1_8,\n",
    "    PUe_MR4 = f1_9,\n",
    "    PUe_KO4 = f1_10,\n",
    "    PUe_MR1 = f1_11,\n",
    "    PUe_KO2 = f1_12,\n",
    "    PUe_ST4 = f1_13,\n",
    "    PUe_MR2 = f1_14,\n",
    "    PUe_MR3 = f1_15,\n",
    "    PUe_BB2 = f1_16\n",
    "  ) %>% \n",
    "  mutate(spezifität = \"Global\")\n",
    "\n",
    "data_mgcfa <- \n",
    "  full_join(data_original %>% \n",
    "              select(starts_with(\"PUe_\"), \"spezifität\") %>% \n",
    "              mutate(across(-spezifität, as.numeric)),\n",
    "            data %>%\n",
    "              filter(spezifität == \"Fachdidaktik\") %>% \n",
    "              select(starts_with(\"PUe_\"), \"spezifität\")) %>% \n",
    "  as_tibble()"
   ],
   "id": "1713a16b-9be3-4955-9049-c37aa830eed9"
  },
  {
   "cell_type": "markdown",
   "metadata": {},
   "source": [
    "Die Ergebnisse dieser Messinvarianzanalyse in <a href=\"#tbl-mgcfa-ff3\" class=\"quarto-xref\">Tabelle 3</a> können als Evidenz für die Annahme metrischer Skaleninvarianz (gleiche Item-Ladungen) interpretiert werden. Die Items wiesen also vorliegend die gleichen Ladungen auf, unabhängig davon, ob nach einer professionellen Lehrperson oder einer professionellen Lehrperson in der Deutsch-Fachdidaktik (Sprache) gefragt wurde, jedoch unterschiedliche Intercepts und Residualvarianen.\n",
    "\n",
    "## Diskussion\n",
    "\n",
    "Die vorliegende Arbeit hat drei zentrale Ergebnisse: Erstens enthalten offene Antworten von Lehrpersonen auf die Frage, was „Professionalität” in der Deutsch-Fachdidaktik (Sprache) bzw. im Allgemeinen ausmacht, auch die Ideen bildungswissenschaftlicher Professionalitätsansätze (strukturtheoretischer, metareflektiver, kompetenzorientierter und berufsbiographischer Ansatz). Zweitens konnte im Instrument mit geschlossenen Items zur Erfassung von Professionalitätsüberzeugungen von Cramer at al. ([2023](#ref-cramer2023)) der Ausschluss einer eindimensionalen und einer a priori Struktur (vier Faktoren für strukturtheoretischen, metareflektiven, kompetenzorientierten und berufsbiographischen Ansatz) repliziert werden. Die von Cramer at al. ([2023](#ref-cramer2023)) explorativ gefundene Struktur zeigte die vergleichsweise besten Fit-Indizes, die jedoch unter den klassischen Benchmarks für akzeptable oder gute Modellpassungen liegen ([Hu und Bentler 1999](#ref-hu1999); [Marsh et al. 2004](#ref-marsh2004)). Drittens zeigen offen wie geschlossen erfasste Professionalitätsüberzeugungen sowohl Aspekte von Domänenspezifität als auch von Domänengeneralität: So sind etwa die offenen Antworten auf den globalen Stimulus (*Wir interessieren uns nun dafür, was Ihrer Ansicht nach „Professionalität” einer Lehrperson ausmacht*) im Durchschnitt etwas ähnlicher zu den geschlossenen Items als die Antworten, die auf den fachdidaktik-spezifischen Stimulus folgen.  \n",
    "Als zentrale Stärke der vorliegenden Studie kann sicher deren externe Validität hervorgehoben werden: Forschungsfragen 1 und 2 wurden mit einer Stichprobe von aktiven Deutschlehrpersonen bearbeitet, deren Größe a priori mit einer Poweranalyse determiniert wurde. Für Forschungsfrage 3 wurde zudem eine repräsentative Stichprobe von Lehrpersonen reanalysiert. Dem stehen Schwächen der Studie - insbesondere die Konstruktvalidität betreffend - entgehen, sowohl bezüglich der geschlossenen als auch der offenen Erfassung der Professionalitätsüberzeugungen: Die schwache absolute Ausprägung der Fit-Indices der konfirmatischen Faktorenanalysen lassen offenen, inwiefern die in Forschungsfrage 3 angestellten Vergleiche globaler und domänenspezifischer Professionalitätsüberzeugungen überhaupt sinnvoll sind, da unklar bleibt, inwiefern die von Cramer et al. ([2023](#ref-cramer2023)) postulierten Faktoren überhaupt als latente Faktoren existieren, die die Antworten auf die Items beeinflussen oder nicht eher als formative Indexvariablen ([Bollen und Diamantopoulos 2017](#ref-bollen2017)) konzipiert werden sollten, die durch die Antworten der latenten Variable beeinflusst werden. Die Konstruktvalidität der für das Sentence Embedding verwendeten Transformermodellen ist vielfach sehr positiv beschrieben worden ([Reimers und Gurevych 2019](#ref-reimers2019a)). Nichts desto trotz wäre eine explizite Überprüfung im vorliegenden Fall wünschenswert: So könnten geschulte Kodiererinnen und Kodierer die offenen Antworten inhaltsanalytisch den bildungswissenschaftlichen Professionalitätsansätzen zuordnen und dann prüfen, inwiefern diese mit den Embeddings prädiziert werden können. Die vorliegende Evidenz für die Ähnlichkeit offen erfasster Professionalitätsüberzeugungen zu bildungswissenschaftlichen Ansätzen motiviert im Lichte der im Theorieteil beschriebenen Filter-, Rahmungs- und Handlungsleitungsfunktion von Überzeugungen ([Fives und Buehl 2012](#ref-fives2012)) auch anwendungsbezogenere Folgeforschung: So stellt sich etwa die Frage ob solche Professionalitätsüberzeugungen die aus bildungswissenschaftlicher Sicht eher als überholt ([Rothland 2021](#ref-rothland2021)) zu bewerten sind (z.B. eine bestimmte „Lehrerinnen- und Lehrerpersönlichkeit” als zentrales Merkmal von Professionalität), im Sinne eines Bestätigungsfehlers („Confirmation Bias”, [Bohrer et al. in Druck](#ref-bohrer2025); [Masnick und Zimmerman 2009](#ref-masnick2009); [Nickerson 1998](#ref-nickerson1998)) zur abwertenden Evaluation von empirischen Ergebnissen derjenigen Studien führen, die einen anderen Professionalitätsansatz verfolgen. Auch die Wahl von Veranstaltungen in der ersten Phase der Lehrpersonenbildung oder Entscheidungen für oder gegen bestimmte Fort- und Weiterbildungen im beruflichen Lernen könnte durch die Handlungsleitungsfunktion von Professionalitätsüberzeugungen beeinflusst werden. Ließe sich Evidenz für diese Funktion der Professionalisierungsüberzeugungen finden, wäre ein konsequenter nächster Schritt zu untersuchen, inwiefern Awarenessinterventionen die auf die eigenen Überzeugungen und deren potentielle Wirkung aufmerksam machen oder andere Debiasing Strategien wie „Consider the Opposite” ([Brussel et al. 2020](#ref-vanbrussel2020)) zu einem weniger durch die Überzeugungen verzerrten und reflektierteren Handeln führen.\n",
    "\n",
    "# Anhang\n",
    "\n",
    "### Wortlaut der Items\n",
    "\n",
    "#### Offene Items\n",
    "\n",
    "-   Wir interessieren uns nun dafür, was Ihrer Ansicht nach »Professionalität« in der Deutsch-Fachdidaktik (Sprache) ausmacht. Bitte antworten Sie in ganzen Sätzen um Missverständnisse zu vermeiden und formulieren Sie möglichst drei Aspekte. Eine »professionelle« Lehrperson in der Deutsch-Fachdidaktik (Sprache) …\n",
    "-   Wir interessieren uns nun dafür, was Ihrer Ansicht nach »Professionalität« einer Lehrperson ausmacht. Bitte antworten Sie in ganzen Sätzen um Missverständnisse zu vermeiden und formulieren Sie möglichst drei Aspekte. Eine »professionelle« Lehrperson …\n",
    "\n",
    "#### Geschlossene Items\n",
    "\n",
    "siehe [Online-Supplement](Tabelle_Item_Antwort_Aehnlichkeiten.html)\n",
    "\n",
    "Bauer, K.-O. (2000). Pädagoge - Profession Und Nebenbeschäftigung? In O. Jaumann-Graumann & W. Köhnlein (Hrsg.), *Lehrerprofessionalität - Lehrerprofessionalisierung* (S. 25–44).\n",
    "\n",
    "Baumert, J., & Kunter, M. (2006). Stichwort: Professionelle Kompetenz von Lehrkräften. *Zeitschrift für Erziehungswissenschaft*, *9*(4), 469–520. <https://doi.org/10.1007/s11618-006-0165-2>\n",
    "\n",
    "Bell, S. (2011). *Professionalism through the Eyes of Female Elementary Teachers in Ontario* (phdthesis). Queen’s University, Kingston, Canada.\n",
    "\n",
    "Bittermann, A., & Fischer, A. (2024). Natural Language Processing in Psychology. *Zeitschrift für Psychologie*, *232*(3), 143–146. <https://doi.org/10.1027/2151-2604/a000568>\n",
    "\n",
    "Blömeke, S., Müller, C., Felbrich, A., & Kaiser, G. (2008). Epistemologische Überzeugungen Zur Mathematik. In S. Blömeke, G. Kaiser, & R. Lehmann (Hrsg.), *Professionelle Kompetenz Angehender Lehrerinnen Und Lehrer. Wissen, Überzeugungen Und Lerngelegenheiten Deutscher Mathematikstudierender Und -Referendare. Erste Ergebnisse Zur Wirksamkeit Der Lehrerausbildung* (S. 219–246). Waxmann.\n",
    "\n",
    "Bohrer, K., Schmidt, K., & Merk, S. (in Druck). Zwei Studien, ein Ergebnis: Lehramtsstudierende unterliegen im Umgang mit Evidenz dem Ankereffekt. *Zeitschrift für Erziehungswissenschaft*.\n",
    "\n",
    "Bollen, K. A., & Diamantopoulos, A. (2017). In Defense of Causal-Formative Indicators: A Minority Report. *Psychological methods*, *22*(3), 581–596. <https://doi.org/10.1037/met0000056>\n",
    "\n",
    "Bromme, R. (1992). *Der Lehrer als Experte: Zur Psychologie des professionellen Wissens*. H. Huber.\n",
    "\n",
    "Brussel, S. van, Timmermans, M., Verkoeijen, P., & Paas, F. (2020). ‘Consider the opposite’ - Effects of elaborative feedback and correct answer feedback on reducing confirmation bias - A pre-registered study. *Contemporary Educational Psychology*, *60*, 101844. <https://doi.org/10.1016/j.cedpsych.2020.101844>\n",
    "\n",
    "Bürkner, P.-C. (2017). brms: An R Package for Bayesian Multilevel Models Using Stan. *Journal of Statistical Software*, *80*(1). <https://doi.org/10.18637/jss.v080.i01>\n",
    "\n",
    "Cramer, C. (2023). Meta-Reflexivität in der Diskussion. Erweiterung der Theorie und empirische Perspektiven. In C. Cramer (Hrsg.), *Meta-Reflexivität und Professionalität von Lehrpersonen. Theorieentwicklung und Forschungsperspektiven* (S. 9–48). Waxmann. <https://doi.org/10.31244/9783830998068.01>\n",
    "\n",
    "Cramer, C., Brown, C., & Aldridge, D. (2023). Meta-Reflexivity and Teacher Professionalism: Facilitating Multiparadigmatic Teacher Education to Achieve a Future-Proof Profession. *Journal of Teacher Education*, 00224871231162295. <https://doi.org/10.1177/00224871231162295>\n",
    "\n",
    "Cramer, C., Groß Ophoff, J., & Schreiber, F. (2023). Professionalität im Lehrerinnen- und Lehrerberuf. Zur Inkohärenz von Professionstheorie und Überzeugungen von Lehrpersonen. *Zeitschrift für Pädagogik*, *69*(1), 67–87. {online; gedruckt}.\n",
    "\n",
    "Cramer, C., Harant, M., Merk, S., Drahmann, M., & Emmerich, M. (2019). Meta-Reflexivität und Professionalität im Lehrerinnen- und Lehrerberuf. *Zeitschrift für Pädagogik*, *65*(3), 401–423.\n",
    "\n",
    "Dubberke, T., Kunter, M., McElvany, N., Brunner, M., & Baumert, J. (2008). Lerntheoretische Überzeugungen von Mathematiklehrkräften. Einflüsse auf die Unterrichtsgestaltung und den Lernerfolg von Schülerinnen und Schülern. *Zeitschrift für Pädagogische Psychologie*, *22*(3-4), 193–206. <https://doi.org/10.1024/1010-0652.22.34.193>\n",
    "\n",
    "Fabel-Lamla, M. (2018). Der (berufs-)biographische Professionsansatz zum Lehrerberuf. In J. Böhme, C. Cramer, & C. Bressler (Hrsg.), *Erziehungswissenschaft und Lehrerbildung im Widerstreit!? Verhältnisbestimmungen, Herausforderungen und Perspektiven* (S. 82–100). Klinkhardt.\n",
    "\n",
    "Fives, H., Barnes, N., Chiavola, C., SaizdeLaMora, K., Oliveros, E., & Mabrouk-Hattab, S. (2019). Reviews of Teachers’ Beliefs. In G. W. Noblit (Hrsg.), *Oxford Research Encyclopedia of Education*. Oxford University Press. <https://doi.org/10.1093/acrefore/9780190264093.013.781>\n",
    "\n",
    "Fives, H., & Buehl, M. M. (2008). What do teachers believe? Developing a framework for examining beliefs about teachers’ knowledge and ability. *Contemporary Educational Psychology*, *33*(2), 134–176. <https://doi.org/10.1016/j.cedpsych.2008.01.001>\n",
    "\n",
    "Fives, H., & Buehl, M. M. (2012). Spring Cleaning for the „Messy“ Construct of Teachers’ Beliefs: What Are They? Which Have Been Examined? What Can They Tell Us? In K. R. Harris, S. Graham, T. Urdan, S. Graham, J. M. Royer, & M. Zeidner (Hrsg.), *APA Educational Psychology Handbook, Vol 2: Individual Differences and Cultural and Contextual Factors.* (S. 471–499). American Psychological Association. <https://doi.org/10.1037/13274-019>\n",
    "\n",
    "Gebauer, M. M., McElvany, N., & Klukas, S. (2013). Einstellungen von Lehramtsanwärterinnen und Lehramtsanwärtern zum Umgang mit heterogenen Schülergruppen in Schule und Unterricht. In N. McElvany, M. M. Gebauer, W. Bos, & H.-G. Holtappels (Hrsg.), *Jahrbuch der Schulentwicklung* (S. 191–216).\n",
    "\n",
    "Gold, B., Thomm, E., & Bauer, J. (2024). Using the Theory of Planned Behaviour to Predict Pre‐service Teachers’ Preferences for Scientific Sources. *British Journal of Educational Psychology*, *94*(1), 216–230. <https://doi.org/10.1111/bjep.12643>\n",
    "\n",
    "Helsper, W. (2014). Lehrerprofessionalität - der Strukturtheoretische Professionsansatz zum Lehrerberuf. In E. Terhart, H. Bennewitz, & M. Rothland (Hrsg.), *Handbuch der Forschung zum Lehreberuf* (S. 216–240). Waxmann.\n",
    "\n",
    "Helsper, W. (2021). *Professionalität und Professionalisierung pädagogischen Handelns: Eine Einführung*. UTB.\n",
    "\n",
    "Hofer, B. K., & Bendixen, L. D. (2012). Personal Epistemology: Theory, Research, and Future Directions. In K. R. Harris, S. Graham, T. Urdan, C. B. McCormick, G. M. Sinatra, & J. Sweller (Hrsg.), *APA Educational Psychology Handbook, Vol 1: Theories, Constructs, and Critical Issues* (S. 227–256). American Psychological Association. <https://doi.org/10.1037/13273-009>\n",
    "\n",
    "Hohenstein, F., Zimmermann, F., Kleickmann, T., Köller, O., & Möller, J. (2014). Sind die bildungswissenschaftlichen Standards für die Lehramtsausbildung in den Curricula der Hochschulen angekommen? *Zeitschrift für Erziehungswissenschaft*, *17*(3), 497–507. <https://doi.org/10.1007/s11618-014-0563-9>\n",
    "\n",
    "Hu, L., & Bentler, P. M. (1999). Cutoff criteria for fit indexes in covariance structure analysis: Conventional criteria versus new alternatives. *Structural Equation Modeling: A Multidisciplinary Journal*, *6*(1), 1–55. <https://doi.org/10.1080/10705519909540118>\n",
    "\n",
    "Kjell, O., Giorgi, S., & Schwartz, H. A. (2023). The text-package: An R-package for analyzing and visualizing human language using natural language processing and transformers. *Psychological Methods*, *28*(6), 1478–1498. <https://doi.org/10.1037/met0000542>\n",
    "\n",
    "König, J. (2020). Kompetenzorientierter Ansatz in der Lehrerinnen- und Lehrerbildung. In C. Cramer, J. König, M. Rothland, & S. Blömeke (Hrsg.), *Handbuch Lehrerinnen- und Lehrerbildung*. Klinkhardt. <https://doi.org/10.35468/hblb2020-019>\n",
    "\n",
    "Krauss, S., Kunter, M., Brunner, M., Baumert, J., Blum, W., Neubrand, M., et al. (2004). COACTIV. Professionswissen von Lehrkräften, Kognitiv Aktivierender Mathematikunterricht und die Entwicklung von Mathematischer Kompetenz. In M. Doll & M. Prenzel (Hrsg.), *Bildungsqualität von Schule: Lehrerprofessionalisierung, Unterrichtsentwicklung und Schülerförderung als Strategien der Qualitätsverbesserung* (S. 31–53). Waxmann.\n",
    "\n",
    "Kunze, K., & Stelmaszyk, B. (2008). Biographien und Berufskarrieren von Lehrerinnen und Lehrern. In W. Helsper & J. Böhme (Hrsg.), *Handbuch der Schulforschung* (2. Aufl., S. 821–838). Springer SV.\n",
    "\n",
    "Lakens, D. (2022). Sample size justification. *Collabra: Psychology*, *8*(1), 33267. <https://doi.org/10.1525/collabra.33267>\n",
    "\n",
    "LeBel, E. P., McCarthy, R. J., Earp, B. D., Elson, M., & Vanpaemel, W. (2018). A unified framework to quantify the credibility of scientific findings. *Advances in Methods and Practices in Psychological Science*, *1*(3), 389–402. <https://doi.org/10.1177/2515245918787489>\n",
    "\n",
    "Lemoine, N. P. (2019). Moving beyond noninformative priors: Why and how to choose weakly informative priors in Bayesian analyses. *Oikos*, *128*(7), 912–928. <https://doi.org/10.1111/oik.05985>\n",
    "\n",
    "Luong, R., & Flake, J. K. (2023). Measurement invariance testing using confirmatory factor analysis and alignment optimization: A tutorial for transparent analysis planning and reporting. *Psychological Methods*, *28*(4), 905–924. <https://doi.org/10.1037/met0000441>\n",
    "\n",
    "Marsh, H. W., Hau, K.-T., & Wen, Z. (2004). In search of golden rules: Comment on hypothesis-testing approaches to setting cutoff values for fit indexes and dangers in overgeneralizing Hu and Bentler’s (1999) findings. *Structural Equation Modeling: A Multidisciplinary Journal*, *11*(3), 320–341. <https://doi.org/10.1207/s15328007sem1103_2>\n",
    "\n",
    "Masnick, A. M., & Zimmerman, C. (2009). Evaluating scientific research in the context of prior belief: Hindsight Bias or Confirmation Bias? *Journal of Psychology of Science and Technology*, *2*(1), 29–36. <https://doi.org/10.1891/1939-7054.2.1.29>\n",
    "\n",
    "Merk, S. (2020). Überzeugungen. In C. Cramer, J. König, M. Rothland, & S. Blömeke (Hrsg.), *Handbuch Lehrerinnen- und Lehrerbildung*. Klinkhardt. <https://doi.org/10.35468/hblb2020-102>\n",
    "\n",
    "Merk, S., Kelava, A., Schneider, J., Syring, M., & Bohl, T. (2017). Teacher students’ epistemic beliefs about general pedagogical knowledge: Topic-, source- and context specificity. *Journal for Educational Research Online*, *9*(1), 169–189.\n",
    "\n",
    "Merk, S., & Schmidt, K. (2023). Grundlegende Fragen an eine quantitativ-empirische Erfassung von Meta-Reflexivität. In C. Cramer (Hrsg.), (S. 143–154). Waxmann. <https://doi.org/10.31244/9783830998068>\n",
    "\n",
    "Muis, K. R., Bendixen, L. D., & Haerle, F. C. (2006). Domain-generality and domain-specificity in personal epistemology research: Philosophical and empirical reflections in the development of a theoretical framework. *Educational Psychology Review*, *18*(1), 3–54. <https://doi.org/10.1007/s10648-006-9003-6>\n",
    "\n",
    "Nickerson, R. S. (1998). Confirmation bias: A ubiquitous phenomenon in many guises. *Review of General Psychology*, *2*(2), 175–220. <https://doi.org/10.1037/1089-2680.2.2.175>\n",
    "\n",
    "Oevermann, U. (1996). Theoretische Skizze einer revidierten Theorie professionalisierten Handelns. In A. Combe & W. Helsper (Hrsg.), *Pädagogische Professionalität. Untersuchungen zum Typus pädagogischen Handelns* (S. 70–82). Suhrkamp.\n",
    "\n",
    "OpenAI. (2022). text-embedding-ada-002. <https://platform.openai.com/docs/guides/embeddings>\n",
    "\n",
    "Pajares, M. F. (1992). Teachers’ beliefs and educational research: Cleaning up a messy construct. *Review of Educational Research*, *62*(3), 307–332. <https://doi.org/10.3102/00346543062003307>\n",
    "\n",
    "Reimers, N., & Gurevych, I. (2019). Sentence-BERT: Sentence embeddings using siamese BERT-Networks. <https://doi.org/10.48550/ARXIV.1908.10084>\n",
    "\n",
    "Reusser, K., & Pauli, C. (2014). Berufsbezogene Überzeugungen von Lehrerinnen und Lehrern. In E. Terhart, M. Rothland, & H. Bennewitz (Hrsg.), *Handbuch der Forschung zum Lehrerberuf* (2. Aufl., S. 642–661). Waxmann.\n",
    "\n",
    "Robitzsch, A., & Lüdtke, O. (2023). Why Full, Partial, or Approximate Measurement Invariance Are Not a Prerequisite for Meaningful and Valid Group Comparisons. *Structural Equation Modeling: A Multidisciplinary Journal*, *30*(6), 859–870. <https://doi.org/10.1080/10705511.2023.2191292>\n",
    "\n",
    "Rothland, M. (2021). Die ,,Lehrerpersönlichkeit“: das Geheimnis des Lehrberufs? *DDS – Die Deutsche Schule*, *113*(2), 188–198. <https://doi.org/10.31244/dds.2021.02.06>\n",
    "\n",
    "Shulman, L. S. (1986). Those who understand: Knowledge growth in teaching. *Educational Researcher*, *15*(2), 4–14. <https://doi.org/10.3102/0013189X015002004>\n",
    "\n",
    "Skott, J. (2015). The promises, problems, and prospects of research on teachers’ beliefs. In H. Fives & M. G. Gill (Hrsg.), *International Handbook of Research on Teachers’ Beliefs* (Bd. 1, S. 13–30). Routledge.\n",
    "\n",
    "Stan Development Team. (2024). *Stan modeling language users guide and reference manual*. <https://mc-stan.org>\n",
    "\n",
    "Terhart, E. (1992). Lehrerberuf und Professionalität. In B. Dewe, W. Ferchhoff, & E. O. Radtke (Hrsg.), *Erziehen als Profession* (S. 103–131). Leske u. Budrich.\n",
    "\n",
    "Terhart, E. (1995). Lehrerprofessionalität. In H.-G. Rolff (Hrsg.), *Zukunftsfelder von Schulforschung* (S. 225–266). Deutscher Studien Verlag.\n",
    "\n",
    "Tschannen-Moran, M., Salloum, S. J., & Goddard, R. D. (2015). Context Matters: The influence of collective beliefs and shared norms. In H. Fives & M. G. Gill (Hrsg.), *International Handbook of Research on Teachers’ Beliefs* (S. 301–316). New York, NY: Routledge.\n",
    "\n",
    "Turner, J. C., Christensen, A., & Meyer, D. K. (2009). Teachers’ beliefs about student learning and motivation. In L. J. Saha & A. G. Dworkin (Hrsg.), *International handbook of research on teachers and teaching* (S. 361–371). Springer US. <https://doi.org/10.1007/978-0-387-73317-3_23>\n",
    "\n",
    "Walker, M., Nelson, J., & Bradshaw, S. (2019). *Teachers’ engagement with research: What do we know? A research briefing.* Education Endowment Foundation. <https://files.eric.ed.gov/fulltext/ED620325.pdf>\n",
    "\n",
    "Winter, B., & Bürkner, P.-C. (2021). Poisson regression for linguists: A tutorial introduction to modelling count data with brms. *Language and Linguistics Compass*, *15*(11). <https://doi.org/10.1111/lnc3.12439>\n",
    "\n",
    "Zembylas, M., & Chubbuck, S. M. (2015). The intersection of identity, beliefs, and politics in conceptualizing „Teacher Identity“. In H. Fives & M. G. Gill (Hrsg.), *International Handbook of Research on Teachers’ Beliefs* (S. 173–190). Routledge."
   ],
   "id": "86aa4e37-f9a9-4b79-b1e3-acb1cd0ef2e2"
  }
 ],
 "nbformat": 4,
 "nbformat_minor": 5,
 "metadata": {}
}
